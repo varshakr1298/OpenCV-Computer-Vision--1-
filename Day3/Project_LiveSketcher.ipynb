{
 "cells": [
  {
   "cell_type": "markdown",
   "metadata": {},
   "source": [
    "## Question 3: Project-Live Sketcher"
   ]
  },
  {
   "cell_type": "code",
   "execution_count": null,
   "metadata": {},
   "outputs": [],
   "source": [
    "import cv2\n",
    "\n",
    "cap = cv2.VideoCapture(0)\n",
    "\n",
    "while True:\n",
    "\tret, frame = cap.read()                        # Reading the Frame\n",
    "\tgray = cv2.cvtColor(frame, cv2.COLOR_BGR2GRAY)# Converting it to GrayScale\n",
    "\tblur = cv2.GaussianBlur(gray , (7,7), 0)     #  Blurring\n",
    "\tedge = cv2.Canny(blur, 40, 90)             #   Finding Edges\n",
    "\tret, thresh = cv2.threshold(edge, 130, 255, cv2.THRESH_BINARY_INV)  # Thresholding\n",
    "\tcv2.imshow('Live Sketcher',thresh)    \n",
    "\n",
    "\tif cv2.waitKey(33) == 27:\n",
    "\t\tbreak;\n",
    "cap.release()\n",
    "cv2.destroyAllWindows()"
   ]
  }
 ],
 "metadata": {
  "kernelspec": {
   "display_name": "Python 3",
   "language": "python",
   "name": "python3"
  },
  "language_info": {
   "codemirror_mode": {
    "name": "ipython",
    "version": 3
   },
   "file_extension": ".py",
   "mimetype": "text/x-python",
   "name": "python",
   "nbconvert_exporter": "python",
   "pygments_lexer": "ipython3",
   "version": "3.7.2"
  }
 },
 "nbformat": 4,
 "nbformat_minor": 2
}
