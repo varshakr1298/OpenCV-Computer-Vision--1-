{
 "cells": [
  {
   "cell_type": "markdown",
   "metadata": {},
   "source": [
    "## Question2: Recording video using webcam and displaying it in grayscale mode"
   ]
  },
  {
   "cell_type": "code",
   "execution_count": 1,
   "metadata": {},
   "outputs": [],
   "source": [
    "import cv2"
   ]
  },
  {
   "cell_type": "code",
   "execution_count": 2,
   "metadata": {},
   "outputs": [],
   "source": [
    "video = cv2.VideoCapture(0)\n",
    "#In above code 0 means we are using the primary camera of the device that we are using\n",
    "while(True):\n",
    "\tret,frame = video.read()\n",
    "\tgrayFrame = cv2.cvtColor(frame, cv2.COLOR_BGR2GRAY) #Converting the video to grayscale\n",
    "\tcv2.imshow('result in grayscale', grayFrame)\n",
    "\tcv2.waitKey(1)\n",
    "\tif cv2.waitKey(33) == 27:\n",
    "\t\tbreak\n",
    "#In the above two lines we are using the ESC key whose code is 27 to stop our video recording and 33 means we are asking it to wait for 23 seconds\n",
    "cv2.destroyAllWindows()"
   ]
  },
  {
   "cell_type": "code",
   "execution_count": 3,
   "metadata": {},
   "outputs": [
    {
     "data": {
      "text/plain": [
       "' Releasing the Camera\\n'"
      ]
     },
     "execution_count": 3,
     "metadata": {},
     "output_type": "execute_result"
    }
   ],
   "source": [
    "video.release()\n",
    "#Releasing the Camera"
   ]
  }
 ],
 "metadata": {
  "kernelspec": {
   "display_name": "Python 3",
   "language": "python",
   "name": "python3"
  },
  "language_info": {
   "codemirror_mode": {
    "name": "ipython",
    "version": 3
   },
   "file_extension": ".py",
   "mimetype": "text/x-python",
   "name": "python",
   "nbconvert_exporter": "python",
   "pygments_lexer": "ipython3",
   "version": "3.7.2"
  }
 },
 "nbformat": 4,
 "nbformat_minor": 2
}
